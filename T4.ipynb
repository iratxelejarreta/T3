{
  "cells": [
    {
      "cell_type": "markdown",
      "source": [
        "<h1>Efecto Fotoeléctrico</h1>"
      ],
      "metadata": {}
    },
    {
      "cell_type": "markdown",
      "source": [
        "<p>Applet Java para simular el efecto fotoeléctrico:</p>\n",
        "<div style=\"position: relative; width: 300px; height: 197px;\"><a href=\"https://phet.colorado.edu/sims/photoelectric/photoelectric_es.jnlp\" style=\"text-decoration: none;\" target=\"_blank\"><img src=\"https://phet.colorado.edu/sims/photoelectric/photoelectric-600.png\" alt=\"El Efecto Fotoeléctrico\" style=\"border: none;\" width=\"300\" height=\"197\"/><div style=\"position: absolute; width: 200px; height: 80px; left: 50px; top: 58px; background-color: #FFF; opacity: 0.6; filter: alpha(opacity = 60);\"></div><table style=\"position: absolute; width: 200px; height: 80px; left: 50px; top: 58px;\"><tr><td style=\"text-align: center; color: #000; font-size: 24px; font-family: Arial,sans-serif;\">Clic para Ejecutar</td></tr></table></a></div>\n",
        "</p><i>https://phet.colorado.edu/es/simulation/photoelectric</i></p>"
      ],
      "metadata": {}
    },
    {
      "cell_type": "markdown",
      "source": [
        "<p>Escogemos dos metales para ver qué voltajes de frenado detienen la emisión de electrones, al extraer mediante la colisión con partículas de luz de longitud de onda. </p>\n",
        "<ul>\n",
        "    <li>Sodio</li>\n",
        "    <li>Cobre</li>\n",
        "</ul>\n",
        "<p>Los valores se almacenarán en arrays de Javascript:</p>"
      ],
      "metadata": {}
    },
    {
      "cell_type": "code",
      "source": [
        "//Valores para el sodio\n",
        "var longitudes_de_onda_medidas = [300, 350, 400, 450].map(x => x*1e-9);  // en metros\n",
        "var voltajes_medidos = [-1.8, -1.4, -0.8, -0.6];  // en voltios \n",
        "\n",
        "//Valores para el cobre\n",
        "var longitudes_de_onda_medidas2 = [235, 229, 224, 215].map(x => x*1e-9);  // en metros\n",
        "var voltajes_medidos2 = [-0.2, -0.4, -0.6, -0.80];  // en voltios "
      ],
      "outputs": [],
      "execution_count": 16,
      "metadata": {
        "collapsed": false,
        "outputHidden": false,
        "inputHidden": false
      }
    },
    {
      "cell_type": "markdown",
      "source": [
        "<p>Tuplas de valores y voltajes:"
      ],
      "metadata": {}
    },
    {
      "cell_type": "code",
      "source": [
        "inversa_de_longitudes_de_onda = longitudes_de_onda_medidas.map(lambda => 1/lambda );\n",
        "var datos_a_ajustar = voltajes_medidos.reduce((tuplas_longitud_onda_voltaje, b, i) => { tuplas_longitud_onda_voltaje.push([inversa_de_longitudes_de_onda[i], b]); return tuplas_longitud_onda_voltaje; }, []); console.log('Sodio: los datos a ajustar son ' + datos_a_ajustar); \n",
        "\n",
        "inversa_de_longitudes_de_onda2 = longitudes_de_onda_medidas2.map(lambda => 1/lambda );\n",
        "var datos_a_ajustar2 = voltajes_medidos2.reduce((tuplas_longitud_onda_voltaje2, b, i) => { tuplas_longitud_onda_voltaje2.push([inversa_de_longitudes_de_onda2[i], b]); return tuplas_longitud_onda_voltaje2; }, []); console.log('Cobre: los datos a ajustar son ' + datos_a_ajustar2); \n"
      ],
      "outputs": [
        {
          "output_type": "stream",
          "name": "stdout",
          "text": [
            "Sodio: los datos a ajustar son 3333333.333333333,-1.8,2857142.857142857,-1.4,2500000,-0.8,2222222.222222222,-0.6\n",
            "Cobre: los datos a ajustar son 4255319.14893617,-0.2,4366812.227074236,-0.4,4464285.714285714,-0.6,4651162.790697674,-0.8\n"
          ]
        }
      ],
      "execution_count": 34,
      "metadata": {
        "collapsed": false,
        "outputHidden": false,
        "inputHidden": false
      }
    },
    {
      "cell_type": "code",
      "source": [
        "//Ajuste a la recta\n",
        "var regression = require('./regression.js');\n",
        "\n",
        "var result = regression.linear(datos_a_ajustar, { precision: 15 });\n",
        "//Cálculo de pendiente y ordenada en origen\n",
        "var m = result.equation[0];  //Pendiente = h/e\n",
        "var b = result.equation[1];  //Ordenada = ø/e (energía de arranque en electrón-voltios)\n",
        "\n",
        "console.log('Sodio: la pendiente es ' + m + ' Hz y la ordenada es ' + b + ' V');\n",
        "\n",
        "var result2 = regression.linear(datos_a_ajustar2, { precision: 15 });\n",
        "var m2 = result2.equation[0]; \n",
        "var b2 = result2.equation[1]; \n",
        "\nconsole.log('Cobre: la pendiente es ' + m2 + ' Hz y la ordenada es ' + b2 + ' V');"
      ],
      "outputs": [
        {
          "output_type": "stream",
          "name": "stdout",
          "text": [
            "Sodio: la pendiente es -0.000001134358974 Hz y la ordenada es 1.94472934375 V\n",
            "Cobre: la pendiente es -0.000001520403616 Hz y la ordenada es 6.242070147537954 V\n"
          ]
        }
      ],
      "execution_count": 49,
      "metadata": {
        "collapsed": false,
        "outputHidden": false,
        "inputHidden": false
      }
    },
    {
      "cell_type": "markdown",
      "source": [
        "<h2>Representación gráfica:</h2>"
      ],
      "metadata": {}
    },
    {
      "cell_type": "code",
      "source": [
        "//Implementación de la biblioteca Plot.ly\n",
        "function Plotly(data, layout, $$) {\n",
        "    $$ = $$ || global.$$;\n",
        "    $$.mime({ \"application/vnd.plotly.v1+json\": { data: data, layout: layout } });\n",
        "}"
      ],
      "outputs": [],
      "execution_count": 8,
      "metadata": {
        "collapsed": false,
        "outputHidden": false,
        "inputHidden": false
      }
    },
    {
      "cell_type": "markdown",
      "source": [
        "<p><b>Representación gráfica del Sodio:</b></p>"
      ],
      "metadata": {}
    },
    {
      "cell_type": "code",
      "source": [
        "voltajes_de_frenado_calculados = inversa_de_longitudes_de_onda.map(inversa_lambda => inversa_lambda * m + b);\n",
        "voltajes_de_frenado_calculados2 = inversa_de_longitudes_de_onda2.map(inversa_lambda2 => inversa_lambda2 * m2 + b2);"
      ],
      "outputs": [
        {
          "output_type": "execute_result",
          "execution_count": 61,
          "data": {
            "text/plain": [
              "[ -0.2277324737386417,\n",
              "  -0.397246952898727,\n",
              "  -0.5454459953191879,\n",
              "  -0.8295745780434416 ]"
            ]
          },
          "metadata": {}
        }
      ],
      "execution_count": 61,
      "metadata": {
        "collapsed": false,
        "outputHidden": false,
        "inputHidden": false
      }
    },
    {
      "cell_type": "code",
      "source": [
        "datos = [\n",
        "  { x: inversa_de_longitudes_de_onda, y: voltajes_medidos, mode: 'lines+markers', name: 'Sodio: datos experimentales', \n",
        "   marker: { color: 'rgb(128, 0, 128)', size: 8 }, line: { color: 'rgb(128, 0, 128)', width: 1, shape: 'linear'} , connectgaps: true, type: 'scatter'}, \n",
        "  { x: inversa_de_longitudes_de_onda, y: voltajes_de_frenado_calculados, mode: 'lines+markers', name: 'Sodio: datos calculados tras ajuste',\n",
        "   marker: { color: 'rgb(234, 153, 153)', size: 10 }, line: { color: 'rgb(234, 153, 153)', width: 2, shape: 'linear'} , connectgaps: true, type: 'scatter'},\n",
        "  { x: inversa_de_longitudes_de_onda2, y: voltajes_medidos2, mode: 'lines+markers', name: 'Cobre: datos experimentales', \n",
        "   marker: { color: 'rgb(255, 217, 102)', size: 8 }, line: { color: 'rgb(255, 217, 102)', width: 1, shape: 'linear'} , connectgaps: true, type: 'scatter'}, \n",
        "  { x: inversa_de_longitudes_de_onda2, y: voltajes_de_frenado_calculados2, mode: 'lines+markers', name: 'Cobre: datos calculados tras ajuste',\n",
        "   marker: { color: 'rgb(55, 128, 191)', size: 10 }, line: { color: 'rgb(55, 128, 191)', width: 2, shape: 'linear'} , connectgaps: true, type: 'scatter'}\n",
        "];\n",
        "var layout = {\n",
        "  title: 'SODIO y COBRE',\n",
        "  xaxis: { title: 'Eje x', titlefont: { family: 'Arial', size: 10, color: '#000000' } },\n",
        "  yaxis: { title: 'Eje y', titlefont: { family: 'Arial', size: 10, color: '#000000' } }\n",
        "};\n",
        "Plotly(datos, layout);"
      ],
      "outputs": [
        {
          "output_type": "execute_result",
          "execution_count": 75,
          "data": {
            "application/vnd.plotly.v1+json": {
              "data": [
                {
                  "x": [
                    3333333.333333333,
                    2857142.857142857,
                    2500000,
                    2222222.222222222
                  ],
                  "y": [
                    -1.8,
                    -1.4,
                    -0.8,
                    -0.6
                  ],
                  "mode": "lines+markers",
                  "name": "Sodio: datos experimentales",
                  "marker": {
                    "color": "rgb(128, 0, 128)",
                    "size": 8
                  },
                  "line": {
                    "color": "rgb(128, 0, 128)",
                    "width": 1,
                    "shape": "linear"
                  },
                  "connectgaps": true,
                  "type": "scatter",
                  "uid": "cb4d12"
                },
                {
                  "x": [
                    3333333.333333333,
                    2857142.857142857,
                    2500000,
                    2222222.222222222
                  ],
                  "y": [
                    -1.8364672362499996,
                    -1.2962962962499993,
                    -0.8911680912499997,
                    -0.5760683762499996
                  ],
                  "mode": "lines+markers",
                  "name": "Sodio: datos calculados tras ajuste",
                  "marker": {
                    "color": "rgb(234, 153, 153)",
                    "size": 10
                  },
                  "line": {
                    "color": "rgb(234, 153, 153)",
                    "width": 2,
                    "shape": "linear"
                  },
                  "connectgaps": true,
                  "type": "scatter",
                  "uid": "ce6611"
                },
                {
                  "x": [
                    4255319.14893617,
                    4366812.227074236,
                    4464285.714285714,
                    4651162.790697674
                  ],
                  "y": [
                    -0.2,
                    -0.4,
                    -0.6,
                    -0.8
                  ],
                  "mode": "lines+markers",
                  "name": "Cobre: datos experimentales",
                  "marker": {
                    "color": "rgb(255, 217, 102)",
                    "size": 8
                  },
                  "line": {
                    "color": "rgb(255, 217, 102)",
                    "width": 1,
                    "shape": "linear"
                  },
                  "connectgaps": true,
                  "type": "scatter",
                  "uid": "3b5547"
                },
                {
                  "x": [
                    4255319.14893617,
                    4366812.227074236,
                    4464285.714285714,
                    4651162.790697674
                  ],
                  "y": [
                    -0.2277324737386417,
                    -0.397246952898727,
                    -0.5454459953191879,
                    -0.8295745780434416
                  ],
                  "mode": "lines+markers",
                  "name": "Cobre: datos calculados tras ajuste",
                  "marker": {
                    "color": "rgb(55, 128, 191)",
                    "size": 10
                  },
                  "line": {
                    "color": "rgb(55, 128, 191)",
                    "width": 2,
                    "shape": "linear"
                  },
                  "connectgaps": true,
                  "type": "scatter",
                  "uid": "4f3662"
                }
              ],
              "layout": {
                "title": "SODIO y COBRE",
                "xaxis": {
                  "title": "Eje x",
                  "titlefont": {
                    "family": "Arial",
                    "size": 10,
                    "color": "#000000"
                  },
                  "type": "linear",
                  "range": [
                    2031977.3325237804,
                    4841407.680396116
                  ],
                  "autorange": true
                },
                "yaxis": {
                  "title": "Eje y",
                  "titlefont": {
                    "family": "Arial",
                    "size": 10,
                    "color": "#000000"
                  },
                  "type": "linear",
                  "range": [
                    -1.9759288453802586,
                    -0.06936507499190941
                  ],
                  "autorange": true
                }
              }
            }
          },
          "metadata": {}
        }
      ],
      "execution_count": 75,
      "metadata": {
        "collapsed": false,
        "outputHidden": false,
        "inputHidden": false
      }
    }
  ],
  "metadata": {
    "kernelspec": {
      "name": "node_nteract",
      "language": "javascript",
      "display_name": "Node.js (nteract)"
    },
    "kernel_info": {
      "name": "node_nteract"
    },
    "language_info": {
      "name": "javascript",
      "version": "7.9.0",
      "mimetype": "application/javascript",
      "file_extension": ".js"
    },
    "nteract": {
      "version": "0.4.3"
    }
  },
  "nbformat": 4,
  "nbformat_minor": 4
}